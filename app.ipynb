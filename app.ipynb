{
 "cells": [
  {
   "cell_type": "code",
   "execution_count": 1,
   "metadata": {},
   "outputs": [],
   "source": [
    "// Dino Constructor\n",
    "function Dino({species, weight, height, diet, where, when, fact}) {\n",
    "    this.species = species;\n",
    "    this.weight= weight;\n",
    "    this.height= height;\n",
    "    this.diet= diet;\n",
    "    this.facts = [\n",
    "      fact,\n",
    "        `${this.species} lived in ${where}`,\n",
    "        `${this.species} lived during the ${when}`,         \n",
    "      ]\n",
    "  }"
   ]
  },
  {
   "cell_type": "code",
   "execution_count": 2,
   "metadata": {},
   "outputs": [],
   "source": [
    "// Dino Objects\n",
    "let dinoArr = [];\n",
    "\n",
    "function dinos(){\n",
    "   const myJson = {\n",
    "    \"Dinos\": [\n",
    "        {\n",
    "            \"species\": \"Triceratops\",\n",
    "            \"weight\": 13000,\n",
    "            \"height\": 114,\n",
    "            \"diet\": \"Herbivore\",\n",
    "            \"where\": \"North America\",\n",
    "            \"when\": \"Late Cretaceous\",\n",
    "            \"fact\": \"First discovered in 1889 by Othniel Charles Marsh\"\n",
    "        },\n",
    "        {\n",
    "            \"species\": \"Tyrannosaurus Rex\",\n",
    "            \"weight\": 11905,\n",
    "            \"height\": 144,\n",
    "            \"diet\": \"Carnivore\",\n",
    "            \"where\": \"North America\",\n",
    "            \"when\": \"Late Cretaceous\",\n",
    "            \"fact\": \"The largest known skull measures in at 5 feet long.\"\n",
    "        },\n",
    "        {\n",
    "            \"species\": \"Anklyosaurus\",\n",
    "            \"weight\": 10500,\n",
    "            \"height\": 55,\n",
    "            \"diet\": \"Herbivore\",\n",
    "            \"where\": \"North America\",\n",
    "            \"when\": \"Late Cretaceous\",\n",
    "            \"fact\": \"Anklyosaurus survived for approximately 135 million years.\"\n",
    "        },\n",
    "        {\n",
    "            \"species\": \"Brachiosaurus\",\n",
    "            \"weight\": 70000,\n",
    "            \"height\": \"372\",\n",
    "            \"diet\": \"Herbivore\",\n",
    "            \"where\": \"North America\",\n",
    "            \"when\": \"Late Jurasic\",\n",
    "            \"fact\": \"An asteroid was named 9954 Brachiosaurus in 1991.\"\n",
    "        },\n",
    "        {\n",
    "            \"species\": \"Stegosaurus\",\n",
    "            \"weight\": 11600,\n",
    "            \"height\": 79,\n",
    "            \"diet\": \"Herbivore\",\n",
    "            \"where\": \"North America, Europe, Asia\",\n",
    "            \"when\": \"Late Jurasic to Early Cretaceous\",\n",
    "            \"fact\": \"The Stegosaurus had between 17 and 22 seperate places and flat spines.\"\n",
    "        },\n",
    "        {\n",
    "            \"species\": \"Elasmosaurus\",\n",
    "            \"weight\": 16000,\n",
    "            \"height\": 59,\n",
    "            \"diet\": \"Carnivore\",\n",
    "            \"where\": \"North America\",\n",
    "            \"when\": \"Late Cretaceous\",\n",
    "            \"fact\": \"Elasmosaurus was a marine reptile first discovered in Kansas.\"\n",
    "        },\n",
    "        {\n",
    "            \"species\": \"Pteranodon\",\n",
    "            \"weight\": 44,\n",
    "            \"height\": 20,\n",
    "            \"diet\": \"Carnivore\",\n",
    "            \"where\": \"North America\",\n",
    "            \"when\": \"Late Cretaceous\",\n",
    "            \"fact\": \"Actually a flying reptile, the Pteranodon is not a dinosaur.\"\n",
    "        },\n",
    "        {\n",
    "            \"species\": \"Pigeon\",\n",
    "            \"weight\": 0.5,\n",
    "            \"height\": 9,\n",
    "            \"diet\": \"Herbivore\",\n",
    "            \"where\": \"World Wide\",\n",
    "            \"when\": \"Holocene\",\n",
    "            \"fact\": \"All birds are living dinosaurs.\"\n",
    "        }\n",
    "    ]\n",
    "}\n",
    "   dinoArr = myJson.Dinos.map(dino => new Dino(dino));     \n",
    " }"
   ]
  },
  {
   "cell_type": "code",
   "execution_count": 3,
   "metadata": {},
   "outputs": [
    {
     "data": {
      "text/plain": [
       "[Function]"
      ]
     },
     "execution_count": 3,
     "metadata": {},
     "output_type": "execute_result"
    }
   ],
   "source": [
    "// Dino Compare Method - Height\n",
    "Dino.prototype.compareHeight = function ({height}) {\n",
    "  this.facts.push( `${this.species} is ${(this.height / height).toPrecision(2)} times your height.`)\n",
    "};"
   ]
  },
  {
   "cell_type": "code",
   "execution_count": 4,
   "metadata": {},
   "outputs": [
    {
     "data": {
      "text/plain": [
       "[Function]"
      ]
     },
     "execution_count": 4,
     "metadata": {},
     "output_type": "execute_result"
    }
   ],
   "source": [
    "// Dino Compare Method - Weight\n",
    "Dino.prototype.compareWeight = function ({weight}) {\n",
    "  this.facts.push(`${this.species} is ${(this.weight / weight).toPrecision(2)} times your weight.`)\n",
    "};"
   ]
  },
  {
   "cell_type": "code",
   "execution_count": 5,
   "metadata": {},
   "outputs": [
    {
     "data": {
      "text/plain": [
       "[Function]"
      ]
     },
     "execution_count": 5,
     "metadata": {},
     "output_type": "execute_result"
    }
   ],
   "source": [
    "// Dino Compare Method - Diet\n",
    "Dino.prototype.compareDiet = function ({diet}) {\n",
    "   if(this.diet == diet){\n",
    "      this.facts.push(`The ${this.species} and you are both ${diet}s`);\n",
    "   } else {\n",
    "      this.facts.push(`The ${this.species} is a ${this.diet} and you are a ${diet}`);\n",
    "   }\n",
    "};"
   ]
  }
 ],
 "metadata": {
  "kernelspec": {
   "display_name": "Javascript (Node.js)",
   "language": "javascript",
   "name": "javascript"
  },
  "language_info": {
   "file_extension": ".js",
   "mimetype": "application/javascript",
   "name": "javascript",
   "version": "12.18.3"
  }
 },
 "nbformat": 4,
 "nbformat_minor": 4
}